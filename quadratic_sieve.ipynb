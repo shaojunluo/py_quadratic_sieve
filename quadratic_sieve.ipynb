{
 "cells": [
  {
   "cell_type": "code",
   "execution_count": 1,
   "metadata": {},
   "outputs": [],
   "source": [
    "import proj_functions\n",
    "from importlib import reload\n",
    "reload(proj_functions)\n",
    "from proj_functions import *"
   ]
  },
  {
   "cell_type": "markdown",
   "metadata": {},
   "source": [
    "# Problem 1\n",
    "\n",
    "**(a)** Please check the function `factorize_with_primes(n,ps)` in proj_functions.py\n",
    "\n",
    "**(b)** Please check the function `pseudoprime_test(n, num_trial)` in proj_functions.py\n",
    "\n",
    "**(c)** Run the pseudoprime test for 3004879 with trials value of [2, 3, 5, 7, 11, 13, 17, 19, 23, 29, 31, 37, 41]. Witness 2 is found. 3004879 is not a prime."
   ]
  },
  {
   "cell_type": "code",
   "execution_count": 2,
   "metadata": {},
   "outputs": [
    {
     "name": "stdout",
     "output_type": "stream",
     "text": [
      "Target: 3004879 Pseudo Test Result: witness_found: 2, Not prime\n"
     ]
    }
   ],
   "source": [
    "trials = [2, 3, 5, 7, 11, 13, 17, 19, 23, 29, 31, 37, 41]\n",
    "proba_prime = pseudoprime_test(3004879,trials)"
   ]
  },
  {
   "cell_type": "markdown",
   "metadata": {},
   "source": [
    "# Problem 2\n",
    "\n",
    "**(a)** Please check the function `jacobi_symbol` in proj_functions.py\n",
    "\n",
    "**(b)** Please check the function `extended_eclid` in proj_functions.py\n",
    "\n",
    "**(c)** Using extended Euclidean method, we found that $1163 \\equiv 648^{-1} \\pmod{1999}$."
   ]
  },
  {
   "cell_type": "code",
   "execution_count": 3,
   "metadata": {},
   "outputs": [
    {
     "name": "stdout",
     "output_type": "stream",
     "text": [
      "The multiplicative inverse of 1163 modulo 1999 is 648\n"
     ]
    }
   ],
   "source": [
    "_, a, _ = extended_euclid(1163,1999)\n",
    "print(f'The multiplicative inverse of 1163 modulo 1999 is {a%1999}')"
   ]
  },
  {
   "cell_type": "markdown",
   "metadata": {},
   "source": [
    "**(d)** Please check the function `tonelli(a,p)` in proj_functions.py\n",
    "\n",
    "**(e)** Use Tonelli function, we found one square root $2188^2 \\equiv 117 \\pmod{3691}$. The $i_k$ we get is [0,2] because $3691 = 2^1 \\times 1845$. Thus there is no updates after the first two $i_k$."
   ]
  },
  {
   "cell_type": "code",
   "execution_count": 4,
   "metadata": {},
   "outputs": [
    {
     "name": "stdout",
     "output_type": "stream",
     "text": [
      "Tonelli Algorithm for square root of 117 modulo 3691...Sqrt Root found: 2188\n",
      "i_k = [0, 2]\n"
     ]
    }
   ],
   "source": [
    "root, ik = tonelli(117,3691, verbose = 1)\n",
    "print(f'i_k = {ik}')"
   ]
  },
  {
   "cell_type": "markdown",
   "metadata": {},
   "source": [
    "# Problem 3\n",
    "\n",
    "**(a)** Please check the function `gauss_modulo2` in proj_functions.py\n",
    "\n",
    "**(b)** Please check the function `find_dependent_rows` in proj_functions.py\n",
    "\n",
    "**(c)** Create a helper function `read_file` to read data. The final dependency coefficients $a_r$ are given below. The value is already modulus 2,"
   ]
  },
  {
   "cell_type": "code",
   "execution_count": 5,
   "metadata": {},
   "outputs": [
    {
     "name": "stdout",
     "output_type": "stream",
     "text": [
      "a_1 mod 2 = [0, 1, 0, 0, 1, 0, 0, 0, 0, 0, 0, 1, 0, 1, 0, 1, 0, 0, 0, 1, 0, 0, 1, 1, 0, 0, 0, 1, 0, 1, 0, 0, 1, 0, 0, 0, 0, 1, 0, 1, 1, 1, 1, 0, 1, 0, 0, 0, 0, 0, 0, 1, 1, 0, 1, 0, 0, 0, 1, 0, 0, 1, 0, 1, 1, 1, 1, 0, 0, 0, 0, 1, 1, 0, 1, 1, 0, 1, 1, 0, 0, 1, 0, 0, 0, 0, 1, 0, 0, 1, 1, 0, 0, 0, 0, 0, 0, 0, 1, 1, 1, 0]\n",
      "\n",
      "a_2 mod 2 = [1, 0, 1, 0, 1, 1, 1, 0, 1, 0, 0, 0, 0, 1, 1, 0, 1, 1, 1, 0, 1, 0, 1, 0, 1, 1, 0, 1, 0, 1, 1, 1, 1, 1, 0, 1, 0, 1, 1, 1, 1, 0, 1, 0, 0, 0, 0, 0, 0, 0, 1, 0, 0, 1, 0, 1, 1, 1, 1, 1, 1, 0, 0, 0, 1, 0, 1, 0, 0, 1, 1, 0, 1, 1, 1, 1, 0, 1, 0, 1, 1, 0, 0, 0, 1, 0, 1, 1, 0, 0, 1, 0, 1, 1, 0, 1, 0, 0, 1, 0, 0, 1]\n"
     ]
    }
   ],
   "source": [
    "M = transpose(read_file('sample.txt'))\n",
    "coefs = left_null_space_mod2(transpose(M))\n",
    "print(f'a_1 mod 2 = {coefs[0]}\\n')\n",
    "print(f'a_2 mod 2 = {coefs[1]}')"
   ]
  },
  {
   "cell_type": "markdown",
   "metadata": {},
   "source": [
    "# Problem 4\n",
    "\n",
    "**(a)** Please check the function `list_primes(B,n = 1)` in proj_functions.py\n",
    "\n",
    "**(b)** Please check the function `list_primes(B,n = 1)` in proj_functions.py\n",
    "\n",
    "**(c)** Use half sieve of eratosthenes, all primes less than 200 with $(91/p)=1$ is listed below. The function only works for small $B$"
   ]
  },
  {
   "cell_type": "code",
   "execution_count": 6,
   "metadata": {},
   "outputs": [
    {
     "name": "stdout",
     "output_type": "stream",
     "text": [
      "Primes p below 200 and (91/p) =1: [2, 3, 5, 11, 29, 41, 53, 67, 71, 73, 89, 97, 103, 113, 131, 139, 151, 163, 199]\n"
     ]
    }
   ],
   "source": [
    "print(f'Primes p below 200 and (91/p) =1: {list_primes(200,n=91)}')"
   ]
  },
  {
   "cell_type": "markdown",
   "metadata": {},
   "source": [
    "# Problem 5\n",
    "\n",
    "**(a)** Please check the funciton `calcualte_h(n,M)` in proj_functions.py\n",
    "\n",
    "**(b)** Please check the funciton `generate_factor_base(n,B)` in proj_functions.py\n",
    "\n",
    "**(c)** with $n = 7386829$ and $B = 1000$. We have the list of candidate prims and the factor base. Although there is no $t$ for $p=2$. However, 2 is still in the factor base."
   ]
  },
  {
   "cell_type": "code",
   "execution_count": 7,
   "metadata": {},
   "outputs": [
    {
     "name": "stdout",
     "output_type": "stream",
     "text": [
      "Factor base and Tonelli solution pairs {p: t}:\n",
      "{3: 2, 5: 2, 7: 3, 19: 3, 29: 6, 31: 26, 37: 36, 41: 8, 43: 26, 47: 11, 53: 31, 59: 18, 61: 41, 71: 42, 73: 18, 79: 48, 83: 24, 97: 45, 103: 94, 127: 126, 131: 130, 137: 101, 139: 62, 149: 68, 163: 141, 167: 69, 179: 6, 181: 20, 223: 20, 233: 27, 257: 69, 269: 122, 277: 65, 283: 260, 293: 251, 307: 193, 311: 184, 313: 177, 317: 290, 331: 137, 337: 183, 353: 294, 359: 274, 367: 68, 373: 181, 379: 285, 401: 295, 409: 392, 457: 126, 491: 476, 499: 272, 541: 189, 557: 190, 563: 371, 569: 54, 571: 85, 577: 464, 587: 487, 613: 479, 617: 71, 641: 540, 661: 223, 683: 54, 691: 102, 733: 467, 743: 573, 751: 155, 787: 566, 797: 673, 821: 604, 827: 723, 853: 629, 863: 570, 881: 273, 911: 21, 941: 866, 953: 850, 971: 648, 977: 705, 983: 741, 991: 887, 997: 71}\n",
      "With total 83 factors, 2 is also in Factor base but have no t\n"
     ]
    }
   ],
   "source": [
    "ts,ps = solve_factor_base(7386829, 1000)\n",
    "print('Factor base and Tonelli solution pairs {p: t}:')\n",
    "print(ts)\n",
    "print(f'With total {len(ps)} factors, 2 is also in Factor base but have no t')"
   ]
  },
  {
   "cell_type": "markdown",
   "metadata": {},
   "source": [
    "**(d)** Please check the function `run_sieve(n,M,B)` in proj_function.py\n",
    "\n",
    "**(e)** Please check the function `run_sieve(n,M,B)` in proj_function.py\n",
    "\n",
    "**(f)** Here is the running with same factor base. The resulting matrix is $113\\times83$ with more row than columns which suggest the Gaussian elimination is valid."
   ]
  },
  {
   "cell_type": "code",
   "execution_count": 8,
   "metadata": {},
   "outputs": [
    {
     "name": "stdout",
     "output_type": "stream",
     "text": [
      "M = 2000, Size of matrix: 113x83\n",
      "Candidate r (or t): [204, 936, 2592, 2754, 2756, 2770, 2772, 2778, 2790, 2792, 2796, 2826, 2842, 2846, 2850, 2868, 2878, 2880, 2882, 2888, 2908, 1260, 2940, 2950, 2962, 2972, 2978, 2996, 3012, 3014, 3050, 108, 3070, 3104, 3112, 3126, 3142, 3156, 3176, 3184, 3188, 3238, 3242, 3266, 3274, 3294, 3312, 3322, 3366, 3422, 3428, 3436, 3440, 3468, 3508, 3518, 3522, 3536, 3538, 3544, 3558, 3570, 3588, 3600, 3636, 3664, 3682, 3738, 3778, 3888, 3890, 3912, 3924, 3932, 3934, 3942, 3944, 3994, 4006, 4008, 4022, 4034, 4044, 4060, 4106, 4112, 4132, 4156, 4174, 4182, 4218, 4240, 4266, 4322, 4386, 4404, 4412, 4420, 4438, 4440, 4444, 4454, 4472, 4518, 4534, 4538, 4584, 4642, 4644, 4646, 4664, 4696, 4700]\n"
     ]
    }
   ],
   "source": [
    "mat, r, _ = run_sieve(7386829, 2000, 1000)\n",
    "print(f'M = 2000, Size of matrix: {len(mat)}x{len(mat[0])}')\n",
    "print(f'Candidate r (or t): {r}')"
   ]
  },
  {
   "cell_type": "markdown",
   "metadata": {},
   "source": [
    "# Problem 6\n",
    "\n",
    "**(a)-(d)** Please check the funciton `quaratic_sieve(n,M,B,trial)` in proj_functions.py\n",
    "\n",
    "**(e)** The implementation is below. We choose $B = 5000$, $M = 180000$."
   ]
  },
  {
   "cell_type": "code",
   "execution_count": 13,
   "metadata": {},
   "outputs": [
    {
     "name": "stdout",
     "output_type": "stream",
     "text": [
      "Target: 10378625636772128629 Pseudo Test Result: witness_found: 2, Not prime\n",
      "Running sieve with M = 180000, B = 5000\n",
      "Solve left null space using Gaussian on GF(2)...\n",
      "3 candidates found. Searching...\n",
      "Factor found: 3628273133\n",
      "x = 718508279645631689372966492885018636887884794799612899761049288790170370478473990664870789981006166858425826709110988465442854336143098844616160901594004262709957307309508058399365981934748273725014010276935881872704340481581500517487567529238539525260795449584866539622563297598970753310516686924332646775624907945532965059397938717335366596951337342121528903720513668807590193485014893468710535231140995889879066483292503671569478847341568458088508425534120302809249580893490882977312248776672449073013609399474996972986792885959550653172498905539371769028729702113565391834587308187034783252891558053699877379134810329594048995193301149485422910921779725676961843059498851457126837566323508725171832937988896133445430689046471206928460665949949867688170138871386044742585441385568633111070639481893581267325405055771595184662307401485734005388665321755982166668403692136458537534586571227389619604112678370520500546311834039269775145203362247628904985748483977006130819768426697154625536000000000000000000 \n",
      "y = 185188692931474404180976839855727197638849498012103657411656350023182522275021388395672571293487590624484678428529594296814692702163282992827305822876907410970906937831667517647017795191791697709817173434739981613925551049313879135803942910377738313687934607934163096045625638551494834755675006646945213149863316356057167359748835801918217795960239967088820085891361663883681856043143708850616908616932967286276011013343111976921184118168468116561190187903800722153800730361999256001422965901937907160211433599457286716154619411877433696842703080466176936705980329908757866419486525182665636534162257028674989471222515925099371382881484642353851339128966984053847925622969518308219137071263924744442722492490275029659711212301553116292124836428642128407955169677734375\n",
      "\n",
      "Factorization: 10378625636772128629 = 3628273133 x 2860486313\n"
     ]
    }
   ],
   "source": [
    "B = 5000\n",
    "M = 180000\n",
    "n = 10378625636772128629\n",
    "fact = quadratic_sieve(n,M,B,trials)\n",
    "if fact:\n",
    "    print(f'\\nFactorization: {n} = {fact} x {n//fact}')"
   ]
  },
  {
   "cell_type": "markdown",
   "metadata": {},
   "source": [
    "**(f)** To ensure we get sufficient factor matrix for Gaussian Elimination as well as enough candidate for non-trivial factors. We need to increase both the size of $M$ and $B$. If $B$ is too small, there will no candidates. Since `list_prime` function is inefficient in memory and time and works only for small bound $B$. Such that we constraint $B$ in a reasonable size and mainly focusing on incrasing the size $M$ until first non-trivial factor merged. The parameter above is a trade-off between computation time and number of candidates."
   ]
  },
  {
   "cell_type": "code",
   "execution_count": null,
   "metadata": {},
   "outputs": [],
   "source": []
  }
 ],
 "metadata": {
  "kernelspec": {
   "display_name": "Python 3",
   "language": "python",
   "name": "python3"
  },
  "language_info": {
   "codemirror_mode": {
    "name": "ipython",
    "version": 3
   },
   "file_extension": ".py",
   "mimetype": "text/x-python",
   "name": "python",
   "nbconvert_exporter": "python",
   "pygments_lexer": "ipython3",
   "version": "3.7.7"
  }
 },
 "nbformat": 4,
 "nbformat_minor": 4
}
